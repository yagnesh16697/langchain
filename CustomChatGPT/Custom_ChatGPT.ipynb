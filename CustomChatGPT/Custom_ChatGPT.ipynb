{
  "nbformat": 4,
  "nbformat_minor": 0,
  "metadata": {
    "colab": {
      "provenance": [],
      "authorship_tag": "ABX9TyO5O3PRJGvsAgvAqiVDa/oW"
    },
    "kernelspec": {
      "name": "python3",
      "display_name": "Python 3"
    },
    "language_info": {
      "name": "python"
    }
  },
  "cells": [
    {
      "cell_type": "code",
      "execution_count": null,
      "metadata": {
        "id": "9mgJzQ09aUmN"
      },
      "outputs": [],
      "source": [
        "pip install python-dotenv openai langchain̨̆"
      ]
    },
    {
      "cell_type": "code",
      "source": [
        "from langchain.chat_models import ChatOpenAI\n",
        "from langchain.schema import SystemMessage\n",
        "from langchain.chains import LLMChain\n",
        "from langchain.prompts import ChatPromptTemplate, HumanMessagePromptTemplate, MessagesPlaceholder\n",
        "from langchain.memory import ConversationBufferMemory, FileChatMessageHistory\n",
        "\n",
        "\n",
        "llm = ChatOpenAI(model_name=\"gpt-3.5-turbo\", temperature=1,openai_api_key=\"\")\n",
        "\n",
        "history = FileChatMessageHistory('chat_history.json')\n",
        "\n",
        "memory = ConversationBufferMemory(\n",
        "    memory_key=\"chat_history\",\n",
        "    chat_memory=history,\n",
        "    return_messages= True\n",
        ")\n",
        "\n",
        "prompt = ChatPromptTemplate(\n",
        "    input_variables=['content'],\n",
        "    messages = [\n",
        "        SystemMessage(content=\"You are chatbot having conversation with human\"),\n",
        "        MessagesPlaceholder(variable_name='chat_history'),\n",
        "        HumanMessagePromptTemplate.from_template('{content}')\n",
        "    ]\n",
        ")\n",
        "\n",
        "chain = LLMChain(llm=llm,prompt=prompt,memory=memory,verbose=False)\n",
        "\n",
        "\n",
        "while(True):\n",
        "  content = input(\"Your prompt: \")\n",
        "  if content in  ['quit','exit',\"bye\"]:\n",
        "    print(\"Good Bye.\")\n",
        "    break\n",
        "\n",
        "  response = chain.run({\"content\":content})\n",
        "  print(response)\n",
        "  print(\"#\"*50)"
      ],
      "metadata": {
        "colab": {
          "base_uri": "https://localhost:8080/"
        },
        "id": "FtJTbRpjgruf",
        "outputId": "a544446e-a185-43a2-cae4-8297df9e86bc"
      },
      "execution_count": 28,
      "outputs": [
        {
          "output_type": "stream",
          "name": "stdout",
          "text": [
            "Your prompt: Hi\n",
            "Hello! How can I assist you today?\n",
            "##################################################\n",
            "Your prompt: 2+2?\n",
            "2 + 2 equals 4. Is there anything else I can help you with?\n",
            "##################################################\n",
            "Your prompt: add 9\n",
            "If you add 9 to 4, the result is 13. Is there anything else I can assist you with?\n",
            "##################################################\n",
            "Your prompt: bye\n",
            "Good Bye.\n"
          ]
        }
      ]
    }
  ]
}