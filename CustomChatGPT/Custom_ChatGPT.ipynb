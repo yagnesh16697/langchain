{
  "nbformat": 4,
  "nbformat_minor": 0,
  "metadata": {
    "colab": {
      "provenance": [],
      "authorship_tag": "ABX9TyON4sOq5rLBy7I7ivv4PREW"
    },
    "kernelspec": {
      "name": "python3",
      "display_name": "Python 3"
    },
    "language_info": {
      "name": "python"
    }
  },
  "cells": [
    {
      "cell_type": "code",
      "execution_count": null,
      "metadata": {
        "id": "9mgJzQ09aUmN"
      },
      "outputs": [],
      "source": [
        "pip install python-dotenv openai langchain̨̆"
      ]
    },
    {
      "cell_type": "code",
      "source": [
        "from langchain.chat_models import ChatOpenAI\n",
        "from langchain.schema import SystemMessage\n",
        "from langchain.chains import LLMChain\n",
        "from langchain.prompts import ChatPromptTemplate, HumanMessagePromptTemplate, MessagesPlaceholder\n",
        "from langchain.memory import ConversationBufferMemory\n",
        "\n",
        "\n",
        "llm = ChatOpenAI(model_name=\"gpt-3.5-turbo\", temperature=1,openai_api_key=\"\")\n",
        "\n",
        "memory = ConversationBufferMemory(\n",
        "    memory_key=\"chat_history\",\n",
        "    return_messages= True\n",
        ")\n",
        "\n",
        "prompt = ChatPromptTemplate(\n",
        "    input_variables=['content'],\n",
        "    messages = [\n",
        "        SystemMessage(content=\"You are chatbot having conversation with human\"),\n",
        "        MessagesPlaceholder(variable_name='chat_history'),\n",
        "        HumanMessagePromptTemplate.from_template('{content}')\n",
        "    ]\n",
        ")\n",
        "\n",
        "\n",
        "chain = LLMChain(llm=llm,prompt=prompt,memory=memory,verbose=False)\n",
        "\n",
        "\n",
        "while(True):\n",
        "  content = input(\"Your prompt: \")\n",
        "  if content in  ['quit','exit',\"bye\"]:\n",
        "    print(\"Good Bye.\")\n",
        "    break\n",
        "\n",
        "  response = chain.run({\"content\":content})\n",
        "  print(response)\n",
        "  print(\"#\"*50)"
      ],
      "metadata": {
        "colab": {
          "base_uri": "https://localhost:8080/"
        },
        "id": "FtJTbRpjgruf",
        "outputId": "973b0107-1211-4f49-e576-c5772c535f12"
      },
      "execution_count": 20,
      "outputs": [
        {
          "output_type": "stream",
          "name": "stdout",
          "text": [
            "Your prompt: Hi\n",
            "Hello! How can I assist you today?\n",
            "##################################################\n",
            "Your prompt: 2+2?\n",
            "2 + 2 equals 4.\n",
            "##################################################\n",
            "Your prompt: What i ask before? \n",
            "Before, you asked \"2+2?\"\n",
            "##################################################\n",
            "Your prompt: bye\n",
            "Good Bye.\n"
          ]
        }
      ]
    }
  ]
}